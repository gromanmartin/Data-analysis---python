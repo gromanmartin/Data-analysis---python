{
 "cells": [
  {
   "cell_type": "markdown",
   "metadata": {},
   "source": [
    "# Introduction"
   ]
  },
  {
   "cell_type": "markdown",
   "metadata": {},
   "source": [
    "In this section I would like to summarize my thinking process in a few sentences. In the first section, I am going to define a couple of functions for computing scores for specific personality traits. In the second section I will use these functions as well as discuss possible problem with missing values. In the following, third, section I will focus on the non-personality variables and I will mostly show how I dealt with missing values. In the fourth section, I will be looking into graphical representation of our data to gain even more insight into the data. In the fifth section, I will be looking into possible link between personality traits and performance. In the last section I briefly summarize the findings of this analysis."
   ]
  },
  {
   "cell_type": "markdown",
   "metadata": {},
   "source": [
    "# 0. Imports"
   ]
  },
  {
   "cell_type": "code",
   "execution_count": 1,
   "metadata": {},
   "outputs": [],
   "source": [
    "import numpy as np\n",
    "import pandas as pd\n",
    "import seaborn as sns\n",
    "import matplotlib.pyplot as plt\n",
    "import pycountry_convert as pc\n",
    "from matplotlib import rc\n",
    "from math import pi\n",
    "%matplotlib inline"
   ]
  },
  {
   "cell_type": "markdown",
   "metadata": {},
   "source": [
    "# 1. Scoring functions"
   ]
  },
  {
   "cell_type": "markdown",
   "metadata": {},
   "source": [
    "I will be using the official scoring system for creating the functions. It can be found for example here - https://sites.temple.edu/rtassessment/files/2018/10/Table_BFPT.pdf"
   ]
  },
  {
   "cell_type": "code",
   "execution_count": 2,
   "metadata": {},
   "outputs": [],
   "source": [
    "def score_extroversion(data):\n",
    "    # data is a pandas dataframe, with elements [E1, E2, ...]\n",
    "    score = 20 + data.iloc[:,0] - data.iloc[:,1] + data.iloc[:,2] - data.iloc[:,3] + data.iloc[:,4] - data.iloc[:,5] + data.iloc[:,6] - data.iloc[:,7] + data.iloc[:,8] - data.iloc[:,9]\n",
    "    return score\n",
    "\n",
    "def score_agreeableness(data):\n",
    "    # data is a pandas dataframe, with elements [A1, A2, ...]\n",
    "    score = 14 - data.iloc[:,0] + data.iloc[:,1] - data.iloc[:,2] + data.iloc[:,3] - data.iloc[:,4] + data.iloc[:,5] - data.iloc[:,6] + data.iloc[:,7] + data.iloc[:,8] + data.iloc[:,9]\n",
    "    return score\n",
    "\n",
    "def score_conscientiousness(data):\n",
    "    # data is a pandas dataframe, with elements [C1, C2, ...]\n",
    "    score = 14 + data.iloc[:,0] - data.iloc[:,1] + data.iloc[:,2] - data.iloc[:,3] + data.iloc[:,4] - data.iloc[:,5] + data.iloc[:,6] - data.iloc[:,7] + data.iloc[:,8] + data.iloc[:,9]\n",
    "    return score\n",
    "\n",
    "def score_neuroticism(data):\n",
    "    # data is a pandas dataframe, with elements [N1, N2, ...]\n",
    "    score = 38 - data.iloc[:,0] + data.iloc[:,1] - data.iloc[:,2] + data.iloc[:,3] - data.iloc[:,4] - data.iloc[:,5] - data.iloc[:,6] - data.iloc[:,7] - data.iloc[:,8] - data.iloc[:,9]\n",
    "    return score\n",
    "\n",
    "def score_openness(data):\n",
    "    # data is a pandas dataframe, with elements [O1, O2, ...]\n",
    "    score = 8 + data.iloc[:,0] - data.iloc[:,1] + data.iloc[:,2] - data.iloc[:,3] + data.iloc[:,4] - data.iloc[:,5] + data.iloc[:,6] + data.iloc[:,7] + data.iloc[:,8] + data.iloc[:,9]\n",
    "    return score"
   ]
  },
  {
   "cell_type": "markdown",
   "metadata": {},
   "source": [
    "# 2. Applying scoring functions"
   ]
  },
  {
   "cell_type": "code",
   "execution_count": 3,
   "metadata": {},
   "outputs": [],
   "source": [
    "# Load both provided datasets\n",
    "performance = pd.read_csv('performance.csv', index_col=0)\n",
    "data = pd.read_csv('data.csv', sep='\\t')"
   ]
  },
  {
   "cell_type": "markdown",
   "metadata": {},
   "source": [
    "First of all we will focus on personality columns. Good idea is to check if we are not missing any values in these columns.\n",
    "For now we do not care about missing values in the country column"
   ]
  },
  {
   "cell_type": "code",
   "execution_count": 4,
   "metadata": {},
   "outputs": [
    {
     "name": "stdout",
     "output_type": "stream",
     "text": [
      "<class 'pandas.core.frame.DataFrame'>\n",
      "RangeIndex: 19719 entries, 0 to 19718\n",
      "Data columns (total 57 columns):\n",
      "race       19719 non-null int64\n",
      "age        19719 non-null int64\n",
      "engnat     19719 non-null int64\n",
      "gender     19719 non-null int64\n",
      "hand       19719 non-null int64\n",
      "source     19719 non-null int64\n",
      "country    19710 non-null object\n",
      "E1         19719 non-null int64\n",
      "E2         19719 non-null int64\n",
      "E3         19719 non-null int64\n",
      "E4         19719 non-null int64\n",
      "E5         19719 non-null int64\n",
      "E6         19719 non-null int64\n",
      "E7         19719 non-null int64\n",
      "E8         19719 non-null int64\n",
      "E9         19719 non-null int64\n",
      "E10        19719 non-null int64\n",
      "N1         19719 non-null int64\n",
      "N2         19719 non-null int64\n",
      "N3         19719 non-null int64\n",
      "N4         19719 non-null int64\n",
      "N5         19719 non-null int64\n",
      "N6         19719 non-null int64\n",
      "N7         19719 non-null int64\n",
      "N8         19719 non-null int64\n",
      "N9         19719 non-null int64\n",
      "N10        19719 non-null int64\n",
      "A1         19719 non-null int64\n",
      "A2         19719 non-null int64\n",
      "A3         19719 non-null int64\n",
      "A4         19719 non-null int64\n",
      "A5         19719 non-null int64\n",
      "A6         19719 non-null int64\n",
      "A7         19719 non-null int64\n",
      "A8         19719 non-null int64\n",
      "A9         19719 non-null int64\n",
      "A10        19719 non-null int64\n",
      "C1         19719 non-null int64\n",
      "C2         19719 non-null int64\n",
      "C3         19719 non-null int64\n",
      "C4         19719 non-null int64\n",
      "C5         19719 non-null int64\n",
      "C6         19719 non-null int64\n",
      "C7         19719 non-null int64\n",
      "C8         19719 non-null int64\n",
      "C9         19719 non-null int64\n",
      "C10        19719 non-null int64\n",
      "O1         19719 non-null int64\n",
      "O2         19719 non-null int64\n",
      "O3         19719 non-null int64\n",
      "O4         19719 non-null int64\n",
      "O5         19719 non-null int64\n",
      "O6         19719 non-null int64\n",
      "O7         19719 non-null int64\n",
      "O8         19719 non-null int64\n",
      "O9         19719 non-null int64\n",
      "O10        19719 non-null int64\n",
      "dtypes: int64(56), object(1)\n",
      "memory usage: 8.6+ MB\n"
     ]
    }
   ],
   "source": [
    "data.info()"
   ]
  },
  {
   "cell_type": "markdown",
   "metadata": {},
   "source": [
    "One thing we should be aware of is the fact that all scoring features should be in range (0,40). However, with our data it is possible to get out of this range if somebody skipped some questions. Lets see how many zeros we are working with"
   ]
  },
  {
   "cell_type": "code",
   "execution_count": 5,
   "metadata": {},
   "outputs": [
    {
     "data": {
      "text/html": [
       "<div>\n",
       "<style scoped>\n",
       "    .dataframe tbody tr th:only-of-type {\n",
       "        vertical-align: middle;\n",
       "    }\n",
       "\n",
       "    .dataframe tbody tr th {\n",
       "        vertical-align: top;\n",
       "    }\n",
       "\n",
       "    .dataframe thead th {\n",
       "        text-align: right;\n",
       "    }\n",
       "</style>\n",
       "<table border=\"1\" class=\"dataframe\">\n",
       "  <thead>\n",
       "    <tr style=\"text-align: right;\">\n",
       "      <th></th>\n",
       "      <th>E1</th>\n",
       "      <th>E2</th>\n",
       "      <th>E3</th>\n",
       "      <th>E4</th>\n",
       "      <th>E5</th>\n",
       "      <th>E6</th>\n",
       "      <th>E7</th>\n",
       "      <th>E8</th>\n",
       "      <th>E9</th>\n",
       "      <th>E10</th>\n",
       "      <th>...</th>\n",
       "      <th>O1</th>\n",
       "      <th>O2</th>\n",
       "      <th>O3</th>\n",
       "      <th>O4</th>\n",
       "      <th>O5</th>\n",
       "      <th>O6</th>\n",
       "      <th>O7</th>\n",
       "      <th>O8</th>\n",
       "      <th>O9</th>\n",
       "      <th>O10</th>\n",
       "    </tr>\n",
       "  </thead>\n",
       "  <tbody>\n",
       "    <tr>\n",
       "      <th>0</th>\n",
       "      <td>1</td>\n",
       "      <td>1</td>\n",
       "      <td>1</td>\n",
       "      <td>1</td>\n",
       "      <td>1</td>\n",
       "      <td>1</td>\n",
       "      <td>1</td>\n",
       "      <td>1</td>\n",
       "      <td>1</td>\n",
       "      <td>1</td>\n",
       "      <td>...</td>\n",
       "      <td>1</td>\n",
       "      <td>1</td>\n",
       "      <td>1</td>\n",
       "      <td>1</td>\n",
       "      <td>1</td>\n",
       "      <td>1</td>\n",
       "      <td>1</td>\n",
       "      <td>1</td>\n",
       "      <td>1</td>\n",
       "      <td>1</td>\n",
       "    </tr>\n",
       "    <tr>\n",
       "      <th>1</th>\n",
       "      <td>4679</td>\n",
       "      <td>4239</td>\n",
       "      <td>1617</td>\n",
       "      <td>2045</td>\n",
       "      <td>1858</td>\n",
       "      <td>5199</td>\n",
       "      <td>4628</td>\n",
       "      <td>1708</td>\n",
       "      <td>3444</td>\n",
       "      <td>1608</td>\n",
       "      <td>...</td>\n",
       "      <td>891</td>\n",
       "      <td>7100</td>\n",
       "      <td>421</td>\n",
       "      <td>7677</td>\n",
       "      <td>332</td>\n",
       "      <td>10470</td>\n",
       "      <td>286</td>\n",
       "      <td>2302</td>\n",
       "      <td>403</td>\n",
       "      <td>309</td>\n",
       "    </tr>\n",
       "    <tr>\n",
       "      <th>2</th>\n",
       "      <td>4483</td>\n",
       "      <td>4766</td>\n",
       "      <td>3263</td>\n",
       "      <td>4137</td>\n",
       "      <td>3234</td>\n",
       "      <td>6384</td>\n",
       "      <td>4224</td>\n",
       "      <td>3665</td>\n",
       "      <td>3937</td>\n",
       "      <td>3085</td>\n",
       "      <td>...</td>\n",
       "      <td>2036</td>\n",
       "      <td>6088</td>\n",
       "      <td>1106</td>\n",
       "      <td>5757</td>\n",
       "      <td>1045</td>\n",
       "      <td>5338</td>\n",
       "      <td>902</td>\n",
       "      <td>3625</td>\n",
       "      <td>1063</td>\n",
       "      <td>1200</td>\n",
       "    </tr>\n",
       "    <tr>\n",
       "      <th>3</th>\n",
       "      <td>5497</td>\n",
       "      <td>4671</td>\n",
       "      <td>4685</td>\n",
       "      <td>5501</td>\n",
       "      <td>4120</td>\n",
       "      <td>3707</td>\n",
       "      <td>3580</td>\n",
       "      <td>4539</td>\n",
       "      <td>3760</td>\n",
       "      <td>3650</td>\n",
       "      <td>...</td>\n",
       "      <td>4786</td>\n",
       "      <td>3832</td>\n",
       "      <td>3053</td>\n",
       "      <td>4103</td>\n",
       "      <td>4979</td>\n",
       "      <td>2102</td>\n",
       "      <td>3311</td>\n",
       "      <td>4921</td>\n",
       "      <td>2766</td>\n",
       "      <td>4030</td>\n",
       "    </tr>\n",
       "    <tr>\n",
       "      <th>4</th>\n",
       "      <td>3591</td>\n",
       "      <td>3575</td>\n",
       "      <td>5588</td>\n",
       "      <td>4842</td>\n",
       "      <td>5536</td>\n",
       "      <td>2865</td>\n",
       "      <td>3706</td>\n",
       "      <td>5104</td>\n",
       "      <td>4467</td>\n",
       "      <td>4904</td>\n",
       "      <td>...</td>\n",
       "      <td>6534</td>\n",
       "      <td>1873</td>\n",
       "      <td>6119</td>\n",
       "      <td>1401</td>\n",
       "      <td>7797</td>\n",
       "      <td>1101</td>\n",
       "      <td>7803</td>\n",
       "      <td>5406</td>\n",
       "      <td>6747</td>\n",
       "      <td>6724</td>\n",
       "    </tr>\n",
       "    <tr>\n",
       "      <th>5</th>\n",
       "      <td>1468</td>\n",
       "      <td>2467</td>\n",
       "      <td>4565</td>\n",
       "      <td>3193</td>\n",
       "      <td>4970</td>\n",
       "      <td>1563</td>\n",
       "      <td>3580</td>\n",
       "      <td>4702</td>\n",
       "      <td>4110</td>\n",
       "      <td>6471</td>\n",
       "      <td>...</td>\n",
       "      <td>5471</td>\n",
       "      <td>825</td>\n",
       "      <td>9019</td>\n",
       "      <td>780</td>\n",
       "      <td>5565</td>\n",
       "      <td>707</td>\n",
       "      <td>7416</td>\n",
       "      <td>3464</td>\n",
       "      <td>8739</td>\n",
       "      <td>7455</td>\n",
       "    </tr>\n",
       "  </tbody>\n",
       "</table>\n",
       "<p>6 rows × 50 columns</p>\n",
       "</div>"
      ],
      "text/plain": [
       "     E1    E2    E3    E4    E5    E6    E7    E8    E9   E10  ...    O1  \\\n",
       "0     1     1     1     1     1     1     1     1     1     1  ...     1   \n",
       "1  4679  4239  1617  2045  1858  5199  4628  1708  3444  1608  ...   891   \n",
       "2  4483  4766  3263  4137  3234  6384  4224  3665  3937  3085  ...  2036   \n",
       "3  5497  4671  4685  5501  4120  3707  3580  4539  3760  3650  ...  4786   \n",
       "4  3591  3575  5588  4842  5536  2865  3706  5104  4467  4904  ...  6534   \n",
       "5  1468  2467  4565  3193  4970  1563  3580  4702  4110  6471  ...  5471   \n",
       "\n",
       "     O2    O3    O4    O5     O6    O7    O8    O9   O10  \n",
       "0     1     1     1     1      1     1     1     1     1  \n",
       "1  7100   421  7677   332  10470   286  2302   403   309  \n",
       "2  6088  1106  5757  1045   5338   902  3625  1063  1200  \n",
       "3  3832  3053  4103  4979   2102  3311  4921  2766  4030  \n",
       "4  1873  6119  1401  7797   1101  7803  5406  6747  6724  \n",
       "5   825  9019   780  5565    707  7416  3464  8739  7455  \n",
       "\n",
       "[6 rows x 50 columns]"
      ]
     },
     "execution_count": 5,
     "metadata": {},
     "output_type": "execute_result"
    }
   ],
   "source": [
    "zeros = data.iloc[:,7:57].apply(pd.value_counts)\n",
    "zeros"
   ]
  },
  {
   "cell_type": "markdown",
   "metadata": {},
   "source": [
    "Looks like there might be a single row filled with zeros, lets try to find it"
   ]
  },
  {
   "cell_type": "code",
   "execution_count": 6,
   "metadata": {},
   "outputs": [
    {
     "data": {
      "text/html": [
       "<div>\n",
       "<style scoped>\n",
       "    .dataframe tbody tr th:only-of-type {\n",
       "        vertical-align: middle;\n",
       "    }\n",
       "\n",
       "    .dataframe tbody tr th {\n",
       "        vertical-align: top;\n",
       "    }\n",
       "\n",
       "    .dataframe thead th {\n",
       "        text-align: right;\n",
       "    }\n",
       "</style>\n",
       "<table border=\"1\" class=\"dataframe\">\n",
       "  <thead>\n",
       "    <tr style=\"text-align: right;\">\n",
       "      <th></th>\n",
       "      <th>race</th>\n",
       "      <th>age</th>\n",
       "      <th>engnat</th>\n",
       "      <th>gender</th>\n",
       "      <th>hand</th>\n",
       "      <th>source</th>\n",
       "      <th>country</th>\n",
       "      <th>E1</th>\n",
       "      <th>E2</th>\n",
       "      <th>E3</th>\n",
       "      <th>...</th>\n",
       "      <th>O1</th>\n",
       "      <th>O2</th>\n",
       "      <th>O3</th>\n",
       "      <th>O4</th>\n",
       "      <th>O5</th>\n",
       "      <th>O6</th>\n",
       "      <th>O7</th>\n",
       "      <th>O8</th>\n",
       "      <th>O9</th>\n",
       "      <th>O10</th>\n",
       "    </tr>\n",
       "  </thead>\n",
       "  <tbody>\n",
       "    <tr>\n",
       "      <th>19064</th>\n",
       "      <td>13</td>\n",
       "      <td>52</td>\n",
       "      <td>2</td>\n",
       "      <td>2</td>\n",
       "      <td>1</td>\n",
       "      <td>2</td>\n",
       "      <td>IN</td>\n",
       "      <td>0</td>\n",
       "      <td>0</td>\n",
       "      <td>0</td>\n",
       "      <td>...</td>\n",
       "      <td>0</td>\n",
       "      <td>0</td>\n",
       "      <td>0</td>\n",
       "      <td>0</td>\n",
       "      <td>0</td>\n",
       "      <td>0</td>\n",
       "      <td>0</td>\n",
       "      <td>0</td>\n",
       "      <td>0</td>\n",
       "      <td>0</td>\n",
       "    </tr>\n",
       "  </tbody>\n",
       "</table>\n",
       "<p>1 rows × 57 columns</p>\n",
       "</div>"
      ],
      "text/plain": [
       "       race  age  engnat  gender  hand  source country  E1  E2  E3  ...  O1  \\\n",
       "19064    13   52       2       2     1       2      IN   0   0   0  ...   0   \n",
       "\n",
       "       O2  O3  O4  O5  O6  O7  O8  O9  O10  \n",
       "19064   0   0   0   0   0   0   0   0    0  \n",
       "\n",
       "[1 rows x 57 columns]"
      ]
     },
     "execution_count": 6,
     "metadata": {},
     "output_type": "execute_result"
    }
   ],
   "source": [
    "data.loc[data['E1'] == 0]"
   ]
  },
  {
   "cell_type": "markdown",
   "metadata": {},
   "source": [
    "And just to make sure all personality columns are equal to zero"
   ]
  },
  {
   "cell_type": "code",
   "execution_count": 7,
   "metadata": {},
   "outputs": [
    {
     "data": {
      "text/plain": [
       "True"
      ]
     },
     "execution_count": 7,
     "metadata": {},
     "output_type": "execute_result"
    }
   ],
   "source": [
    "data.iloc[data.loc[data['E1'] == 0].index, 7:57].sum().sum() == 0"
   ]
  },
  {
   "cell_type": "markdown",
   "metadata": {},
   "source": [
    "Since it is a single row filled with zeros we can afford to drop it from the original dataset as well as performance dataset"
   ]
  },
  {
   "cell_type": "code",
   "execution_count": 8,
   "metadata": {},
   "outputs": [],
   "source": [
    "performance = performance.drop(data.loc[data['E1'] == 0].index)\n",
    "data = data.drop(data.loc[data['E1'] == 0].index)"
   ]
  },
  {
   "cell_type": "markdown",
   "metadata": {},
   "source": [
    "Now, we will merge both datasets together in a new dataset and use the functions defined in the previous section.\n",
    "First we will append performance dataset right after to 7th column."
   ]
  },
  {
   "cell_type": "code",
   "execution_count": 9,
   "metadata": {},
   "outputs": [],
   "source": [
    "df = data.iloc[:,:7]\n",
    "df['performance'] = performance.values"
   ]
  },
  {
   "cell_type": "markdown",
   "metadata": {},
   "source": [
    "Now, we will apply scoring functions to respective columns"
   ]
  },
  {
   "cell_type": "code",
   "execution_count": 10,
   "metadata": {},
   "outputs": [
    {
     "data": {
      "text/html": [
       "<div>\n",
       "<style scoped>\n",
       "    .dataframe tbody tr th:only-of-type {\n",
       "        vertical-align: middle;\n",
       "    }\n",
       "\n",
       "    .dataframe tbody tr th {\n",
       "        vertical-align: top;\n",
       "    }\n",
       "\n",
       "    .dataframe thead th {\n",
       "        text-align: right;\n",
       "    }\n",
       "</style>\n",
       "<table border=\"1\" class=\"dataframe\">\n",
       "  <thead>\n",
       "    <tr style=\"text-align: right;\">\n",
       "      <th></th>\n",
       "      <th>race</th>\n",
       "      <th>age</th>\n",
       "      <th>engnat</th>\n",
       "      <th>gender</th>\n",
       "      <th>hand</th>\n",
       "      <th>source</th>\n",
       "      <th>country</th>\n",
       "      <th>performance</th>\n",
       "      <th>extroversion</th>\n",
       "      <th>agreeableness</th>\n",
       "      <th>conscientiousness</th>\n",
       "      <th>neuroticism</th>\n",
       "      <th>openness</th>\n",
       "    </tr>\n",
       "  </thead>\n",
       "  <tbody>\n",
       "    <tr>\n",
       "      <th>0</th>\n",
       "      <td>3</td>\n",
       "      <td>53</td>\n",
       "      <td>1</td>\n",
       "      <td>1</td>\n",
       "      <td>1</td>\n",
       "      <td>1</td>\n",
       "      <td>US</td>\n",
       "      <td>2</td>\n",
       "      <td>34</td>\n",
       "      <td>36</td>\n",
       "      <td>37</td>\n",
       "      <td>39</td>\n",
       "      <td>33</td>\n",
       "    </tr>\n",
       "    <tr>\n",
       "      <th>1</th>\n",
       "      <td>13</td>\n",
       "      <td>46</td>\n",
       "      <td>1</td>\n",
       "      <td>2</td>\n",
       "      <td>1</td>\n",
       "      <td>1</td>\n",
       "      <td>US</td>\n",
       "      <td>2</td>\n",
       "      <td>12</td>\n",
       "      <td>25</td>\n",
       "      <td>32</td>\n",
       "      <td>19</td>\n",
       "      <td>16</td>\n",
       "    </tr>\n",
       "    <tr>\n",
       "      <th>2</th>\n",
       "      <td>1</td>\n",
       "      <td>14</td>\n",
       "      <td>2</td>\n",
       "      <td>2</td>\n",
       "      <td>1</td>\n",
       "      <td>1</td>\n",
       "      <td>PK</td>\n",
       "      <td>5</td>\n",
       "      <td>25</td>\n",
       "      <td>28</td>\n",
       "      <td>39</td>\n",
       "      <td>4</td>\n",
       "      <td>35</td>\n",
       "    </tr>\n",
       "    <tr>\n",
       "      <th>3</th>\n",
       "      <td>3</td>\n",
       "      <td>19</td>\n",
       "      <td>2</td>\n",
       "      <td>2</td>\n",
       "      <td>1</td>\n",
       "      <td>1</td>\n",
       "      <td>RO</td>\n",
       "      <td>5</td>\n",
       "      <td>12</td>\n",
       "      <td>27</td>\n",
       "      <td>16</td>\n",
       "      <td>7</td>\n",
       "      <td>31</td>\n",
       "    </tr>\n",
       "    <tr>\n",
       "      <th>4</th>\n",
       "      <td>11</td>\n",
       "      <td>25</td>\n",
       "      <td>2</td>\n",
       "      <td>2</td>\n",
       "      <td>1</td>\n",
       "      <td>2</td>\n",
       "      <td>US</td>\n",
       "      <td>3</td>\n",
       "      <td>24</td>\n",
       "      <td>34</td>\n",
       "      <td>24</td>\n",
       "      <td>20</td>\n",
       "      <td>24</td>\n",
       "    </tr>\n",
       "    <tr>\n",
       "      <th>...</th>\n",
       "      <td>...</td>\n",
       "      <td>...</td>\n",
       "      <td>...</td>\n",
       "      <td>...</td>\n",
       "      <td>...</td>\n",
       "      <td>...</td>\n",
       "      <td>...</td>\n",
       "      <td>...</td>\n",
       "      <td>...</td>\n",
       "      <td>...</td>\n",
       "      <td>...</td>\n",
       "      <td>...</td>\n",
       "      <td>...</td>\n",
       "    </tr>\n",
       "    <tr>\n",
       "      <th>19714</th>\n",
       "      <td>11</td>\n",
       "      <td>15</td>\n",
       "      <td>1</td>\n",
       "      <td>2</td>\n",
       "      <td>1</td>\n",
       "      <td>2</td>\n",
       "      <td>SG</td>\n",
       "      <td>4</td>\n",
       "      <td>11</td>\n",
       "      <td>32</td>\n",
       "      <td>26</td>\n",
       "      <td>9</td>\n",
       "      <td>25</td>\n",
       "    </tr>\n",
       "    <tr>\n",
       "      <th>19715</th>\n",
       "      <td>3</td>\n",
       "      <td>37</td>\n",
       "      <td>1</td>\n",
       "      <td>2</td>\n",
       "      <td>1</td>\n",
       "      <td>2</td>\n",
       "      <td>US</td>\n",
       "      <td>1</td>\n",
       "      <td>15</td>\n",
       "      <td>26</td>\n",
       "      <td>22</td>\n",
       "      <td>29</td>\n",
       "      <td>20</td>\n",
       "    </tr>\n",
       "    <tr>\n",
       "      <th>19716</th>\n",
       "      <td>5</td>\n",
       "      <td>16</td>\n",
       "      <td>2</td>\n",
       "      <td>1</td>\n",
       "      <td>1</td>\n",
       "      <td>2</td>\n",
       "      <td>US</td>\n",
       "      <td>5</td>\n",
       "      <td>11</td>\n",
       "      <td>16</td>\n",
       "      <td>13</td>\n",
       "      <td>0</td>\n",
       "      <td>27</td>\n",
       "    </tr>\n",
       "    <tr>\n",
       "      <th>19717</th>\n",
       "      <td>12</td>\n",
       "      <td>16</td>\n",
       "      <td>1</td>\n",
       "      <td>1</td>\n",
       "      <td>1</td>\n",
       "      <td>5</td>\n",
       "      <td>NG</td>\n",
       "      <td>3</td>\n",
       "      <td>11</td>\n",
       "      <td>28</td>\n",
       "      <td>33</td>\n",
       "      <td>10</td>\n",
       "      <td>32</td>\n",
       "    </tr>\n",
       "    <tr>\n",
       "      <th>19718</th>\n",
       "      <td>3</td>\n",
       "      <td>35</td>\n",
       "      <td>1</td>\n",
       "      <td>1</td>\n",
       "      <td>1</td>\n",
       "      <td>1</td>\n",
       "      <td>US</td>\n",
       "      <td>5</td>\n",
       "      <td>14</td>\n",
       "      <td>25</td>\n",
       "      <td>26</td>\n",
       "      <td>13</td>\n",
       "      <td>39</td>\n",
       "    </tr>\n",
       "  </tbody>\n",
       "</table>\n",
       "<p>19718 rows × 13 columns</p>\n",
       "</div>"
      ],
      "text/plain": [
       "       race  age  engnat  gender  hand  source country  performance  \\\n",
       "0         3   53       1       1     1       1      US            2   \n",
       "1        13   46       1       2     1       1      US            2   \n",
       "2         1   14       2       2     1       1      PK            5   \n",
       "3         3   19       2       2     1       1      RO            5   \n",
       "4        11   25       2       2     1       2      US            3   \n",
       "...     ...  ...     ...     ...   ...     ...     ...          ...   \n",
       "19714    11   15       1       2     1       2      SG            4   \n",
       "19715     3   37       1       2     1       2      US            1   \n",
       "19716     5   16       2       1     1       2      US            5   \n",
       "19717    12   16       1       1     1       5      NG            3   \n",
       "19718     3   35       1       1     1       1      US            5   \n",
       "\n",
       "       extroversion  agreeableness  conscientiousness  neuroticism  openness  \n",
       "0                34             36                 37           39        33  \n",
       "1                12             25                 32           19        16  \n",
       "2                25             28                 39            4        35  \n",
       "3                12             27                 16            7        31  \n",
       "4                24             34                 24           20        24  \n",
       "...             ...            ...                ...          ...       ...  \n",
       "19714            11             32                 26            9        25  \n",
       "19715            15             26                 22           29        20  \n",
       "19716            11             16                 13            0        27  \n",
       "19717            11             28                 33           10        32  \n",
       "19718            14             25                 26           13        39  \n",
       "\n",
       "[19718 rows x 13 columns]"
      ]
     },
     "execution_count": 10,
     "metadata": {},
     "output_type": "execute_result"
    }
   ],
   "source": [
    "df['extroversion'] = score_extroversion(data.loc[:,'E1':'E10'])\n",
    "df['agreeableness'] = score_agreeableness(data.loc[:,'A1':'A10'])\n",
    "df['conscientiousness'] = score_conscientiousness(data.loc[:,'C1':'C10'])\n",
    "df['neuroticism'] = score_neuroticism(data.loc[:,'N1':'N10'])\n",
    "df['openness'] = score_openness(data.loc[:,'O1':'O10'])\n",
    "\n",
    "df"
   ]
  },
  {
   "cell_type": "markdown",
   "metadata": {},
   "source": [
    "Double check the maximum and minimum of personality traits columns"
   ]
  },
  {
   "cell_type": "code",
   "execution_count": 11,
   "metadata": {},
   "outputs": [
    {
     "data": {
      "text/plain": [
       "(extroversion         40\n",
       " agreeableness        40\n",
       " conscientiousness    40\n",
       " neuroticism          40\n",
       " openness             40\n",
       " dtype: int64, extroversion         0\n",
       " agreeableness        0\n",
       " conscientiousness    0\n",
       " neuroticism          0\n",
       " openness             0\n",
       " dtype: int64)"
      ]
     },
     "execution_count": 11,
     "metadata": {},
     "output_type": "execute_result"
    }
   ],
   "source": [
    "df.iloc[:,8:13].max(), df.iloc[:,8:13].min()"
   ]
  },
  {
   "cell_type": "markdown",
   "metadata": {},
   "source": [
    "# 3. Data exploration - text"
   ]
  },
  {
   "cell_type": "markdown",
   "metadata": {},
   "source": [
    "Now we should try to get a general idea of data we are working with. Also we want to prepare the dataset for later, when we\n",
    "will create the report"
   ]
  },
  {
   "cell_type": "markdown",
   "metadata": {},
   "source": [
    "First of all, check datatypes for every variable and their count"
   ]
  },
  {
   "cell_type": "code",
   "execution_count": 12,
   "metadata": {},
   "outputs": [
    {
     "name": "stdout",
     "output_type": "stream",
     "text": [
      "<class 'pandas.core.frame.DataFrame'>\n",
      "Int64Index: 19718 entries, 0 to 19718\n",
      "Data columns (total 13 columns):\n",
      "race                 19718 non-null int64\n",
      "age                  19718 non-null int64\n",
      "engnat               19718 non-null int64\n",
      "gender               19718 non-null int64\n",
      "hand                 19718 non-null int64\n",
      "source               19718 non-null int64\n",
      "country              19709 non-null object\n",
      "performance          19718 non-null int64\n",
      "extroversion         19718 non-null int64\n",
      "agreeableness        19718 non-null int64\n",
      "conscientiousness    19718 non-null int64\n",
      "neuroticism          19718 non-null int64\n",
      "openness             19718 non-null int64\n",
      "dtypes: int64(12), object(1)\n",
      "memory usage: 2.1+ MB\n"
     ]
    }
   ],
   "source": [
    "df.info()"
   ]
  },
  {
   "cell_type": "markdown",
   "metadata": {},
   "source": [
    "Lets talk about missing values. Now, we can see 'country' has 9 NaN values, but we have to look at the bigger picture. If 'race', 'engnat', 'gender' and 'hand' are equal to zero that also means we are missing the proper input. Another thing we can find out is that 'country' contains values '(nu' which also probably means null."
   ]
  },
  {
   "cell_type": "code",
   "execution_count": 13,
   "metadata": {},
   "outputs": [
    {
     "data": {
      "text/plain": [
       "US     8753\n",
       "GB     1531\n",
       "IN     1463\n",
       "AU      974\n",
       "CA      924\n",
       "PH      649\n",
       "(nu     369\n",
       "IT      277\n",
       "MY      247\n",
       "PK      222\n",
       "Name: country, dtype: int64"
      ]
     },
     "execution_count": 13,
     "metadata": {},
     "output_type": "execute_result"
    }
   ],
   "source": [
    "df.country.value_counts().head(10)"
   ]
  },
  {
   "cell_type": "markdown",
   "metadata": {},
   "source": [
    "Then there are 'country' values of 'A1' and 'A2' which note uncertain country of connection, so we will exclude them as well"
   ]
  },
  {
   "cell_type": "markdown",
   "metadata": {},
   "source": [
    "Lets try to see how many missing records we are talking about in total, which are missing at least one value"
   ]
  },
  {
   "cell_type": "code",
   "execution_count": 14,
   "metadata": {},
   "outputs": [
    {
     "data": {
      "text/plain": [
       "race                 723\n",
       "age                  723\n",
       "engnat               723\n",
       "gender               723\n",
       "hand                 723\n",
       "source               723\n",
       "country              714\n",
       "performance          723\n",
       "extroversion         723\n",
       "agreeableness        723\n",
       "conscientiousness    723\n",
       "neuroticism          723\n",
       "openness             723\n",
       "dtype: int64"
      ]
     },
     "execution_count": 14,
     "metadata": {},
     "output_type": "execute_result"
    }
   ],
   "source": [
    "df[(df['race'] == 0) | (df['engnat'] == 0) | (df['gender'] == 0) | (df['hand'] == 0) | \n",
    "   (df['country'] == '(nu') | (df['country'].isna()) | (df['country'] == 'A1') | (df['country'] == 'A2')].count()"
   ]
  },
  {
   "cell_type": "markdown",
   "metadata": {},
   "source": [
    "So we are missing 723 values in total, which is roughly 3.7% of the total number of records. The amount can still be considered small enough for us to drop these rows without any significant impact on any future analysis"
   ]
  },
  {
   "cell_type": "code",
   "execution_count": 15,
   "metadata": {},
   "outputs": [
    {
     "name": "stdout",
     "output_type": "stream",
     "text": [
      "<class 'pandas.core.frame.DataFrame'>\n",
      "Int64Index: 18995 entries, 0 to 19718\n",
      "Data columns (total 13 columns):\n",
      "race                 18995 non-null int64\n",
      "age                  18995 non-null int64\n",
      "engnat               18995 non-null int64\n",
      "gender               18995 non-null int64\n",
      "hand                 18995 non-null int64\n",
      "source               18995 non-null int64\n",
      "country              18995 non-null object\n",
      "performance          18995 non-null int64\n",
      "extroversion         18995 non-null int64\n",
      "agreeableness        18995 non-null int64\n",
      "conscientiousness    18995 non-null int64\n",
      "neuroticism          18995 non-null int64\n",
      "openness             18995 non-null int64\n",
      "dtypes: int64(12), object(1)\n",
      "memory usage: 2.0+ MB\n"
     ]
    }
   ],
   "source": [
    "indexes_to_drop = df[(df['race'] == 0) | (df['engnat'] == 0) | (df['gender'] == 0) | (df['hand'] == 0) | \n",
    "   (df['country'] == '(nu') | (df['country'].isna()) | (df['country'] == 'A1') | (df['country'] == 'A2')].index\n",
    "df = df.drop(indexes_to_drop)\n",
    "\n",
    "df.info()"
   ]
  },
  {
   "cell_type": "markdown",
   "metadata": {},
   "source": [
    "Lets continue exploring the dataset with the help of descriptive statistics"
   ]
  },
  {
   "cell_type": "code",
   "execution_count": 16,
   "metadata": {},
   "outputs": [
    {
     "data": {
      "text/html": [
       "<div>\n",
       "<style scoped>\n",
       "    .dataframe tbody tr th:only-of-type {\n",
       "        vertical-align: middle;\n",
       "    }\n",
       "\n",
       "    .dataframe tbody tr th {\n",
       "        vertical-align: top;\n",
       "    }\n",
       "\n",
       "    .dataframe thead th {\n",
       "        text-align: right;\n",
       "    }\n",
       "</style>\n",
       "<table border=\"1\" class=\"dataframe\">\n",
       "  <thead>\n",
       "    <tr style=\"text-align: right;\">\n",
       "      <th></th>\n",
       "      <th>race</th>\n",
       "      <th>age</th>\n",
       "      <th>engnat</th>\n",
       "      <th>gender</th>\n",
       "      <th>hand</th>\n",
       "      <th>source</th>\n",
       "      <th>performance</th>\n",
       "      <th>extroversion</th>\n",
       "      <th>agreeableness</th>\n",
       "      <th>conscientiousness</th>\n",
       "      <th>neuroticism</th>\n",
       "      <th>openness</th>\n",
       "    </tr>\n",
       "  </thead>\n",
       "  <tbody>\n",
       "    <tr>\n",
       "      <th>count</th>\n",
       "      <td>18995.000000</td>\n",
       "      <td>1.899500e+04</td>\n",
       "      <td>18995.000000</td>\n",
       "      <td>18995.000000</td>\n",
       "      <td>18995.000000</td>\n",
       "      <td>18995.000000</td>\n",
       "      <td>18995.000000</td>\n",
       "      <td>18995.000000</td>\n",
       "      <td>18995.000000</td>\n",
       "      <td>18995.000000</td>\n",
       "      <td>18995.000000</td>\n",
       "      <td>18995.000000</td>\n",
       "    </tr>\n",
       "    <tr>\n",
       "      <th>mean</th>\n",
       "      <td>5.359200</td>\n",
       "      <td>5.270053e+04</td>\n",
       "      <td>1.370729</td>\n",
       "      <td>1.618742</td>\n",
       "      <td>1.136088</td>\n",
       "      <td>1.949724</td>\n",
       "      <td>2.970992</td>\n",
       "      <td>20.121295</td>\n",
       "      <td>28.447170</td>\n",
       "      <td>23.453698</td>\n",
       "      <td>19.034693</td>\n",
       "      <td>29.095288</td>\n",
       "    </tr>\n",
       "    <tr>\n",
       "      <th>std</th>\n",
       "      <td>4.002672</td>\n",
       "      <td>7.255717e+06</td>\n",
       "      <td>0.483013</td>\n",
       "      <td>0.496324</td>\n",
       "      <td>0.406280</td>\n",
       "      <td>1.503374</td>\n",
       "      <td>1.428935</td>\n",
       "      <td>9.217610</td>\n",
       "      <td>7.144715</td>\n",
       "      <td>7.303669</td>\n",
       "      <td>8.621076</td>\n",
       "      <td>6.248738</td>\n",
       "    </tr>\n",
       "    <tr>\n",
       "      <th>min</th>\n",
       "      <td>1.000000</td>\n",
       "      <td>1.300000e+01</td>\n",
       "      <td>1.000000</td>\n",
       "      <td>1.000000</td>\n",
       "      <td>1.000000</td>\n",
       "      <td>1.000000</td>\n",
       "      <td>1.000000</td>\n",
       "      <td>0.000000</td>\n",
       "      <td>0.000000</td>\n",
       "      <td>0.000000</td>\n",
       "      <td>0.000000</td>\n",
       "      <td>0.000000</td>\n",
       "    </tr>\n",
       "    <tr>\n",
       "      <th>25%</th>\n",
       "      <td>3.000000</td>\n",
       "      <td>1.800000e+01</td>\n",
       "      <td>1.000000</td>\n",
       "      <td>1.000000</td>\n",
       "      <td>1.000000</td>\n",
       "      <td>1.000000</td>\n",
       "      <td>2.000000</td>\n",
       "      <td>13.000000</td>\n",
       "      <td>24.000000</td>\n",
       "      <td>18.000000</td>\n",
       "      <td>13.000000</td>\n",
       "      <td>25.000000</td>\n",
       "    </tr>\n",
       "    <tr>\n",
       "      <th>50%</th>\n",
       "      <td>3.000000</td>\n",
       "      <td>2.200000e+01</td>\n",
       "      <td>1.000000</td>\n",
       "      <td>2.000000</td>\n",
       "      <td>1.000000</td>\n",
       "      <td>1.000000</td>\n",
       "      <td>3.000000</td>\n",
       "      <td>20.000000</td>\n",
       "      <td>29.000000</td>\n",
       "      <td>24.000000</td>\n",
       "      <td>19.000000</td>\n",
       "      <td>30.000000</td>\n",
       "    </tr>\n",
       "    <tr>\n",
       "      <th>75%</th>\n",
       "      <td>9.000000</td>\n",
       "      <td>3.100000e+01</td>\n",
       "      <td>2.000000</td>\n",
       "      <td>2.000000</td>\n",
       "      <td>1.000000</td>\n",
       "      <td>2.000000</td>\n",
       "      <td>4.000000</td>\n",
       "      <td>27.000000</td>\n",
       "      <td>34.000000</td>\n",
       "      <td>29.000000</td>\n",
       "      <td>25.000000</td>\n",
       "      <td>34.000000</td>\n",
       "    </tr>\n",
       "    <tr>\n",
       "      <th>max</th>\n",
       "      <td>13.000000</td>\n",
       "      <td>1.000000e+09</td>\n",
       "      <td>2.000000</td>\n",
       "      <td>3.000000</td>\n",
       "      <td>3.000000</td>\n",
       "      <td>5.000000</td>\n",
       "      <td>5.000000</td>\n",
       "      <td>40.000000</td>\n",
       "      <td>40.000000</td>\n",
       "      <td>40.000000</td>\n",
       "      <td>40.000000</td>\n",
       "      <td>40.000000</td>\n",
       "    </tr>\n",
       "  </tbody>\n",
       "</table>\n",
       "</div>"
      ],
      "text/plain": [
       "               race           age        engnat        gender          hand  \\\n",
       "count  18995.000000  1.899500e+04  18995.000000  18995.000000  18995.000000   \n",
       "mean       5.359200  5.270053e+04      1.370729      1.618742      1.136088   \n",
       "std        4.002672  7.255717e+06      0.483013      0.496324      0.406280   \n",
       "min        1.000000  1.300000e+01      1.000000      1.000000      1.000000   \n",
       "25%        3.000000  1.800000e+01      1.000000      1.000000      1.000000   \n",
       "50%        3.000000  2.200000e+01      1.000000      2.000000      1.000000   \n",
       "75%        9.000000  3.100000e+01      2.000000      2.000000      1.000000   \n",
       "max       13.000000  1.000000e+09      2.000000      3.000000      3.000000   \n",
       "\n",
       "             source   performance  extroversion  agreeableness  \\\n",
       "count  18995.000000  18995.000000  18995.000000   18995.000000   \n",
       "mean       1.949724      2.970992     20.121295      28.447170   \n",
       "std        1.503374      1.428935      9.217610       7.144715   \n",
       "min        1.000000      1.000000      0.000000       0.000000   \n",
       "25%        1.000000      2.000000     13.000000      24.000000   \n",
       "50%        1.000000      3.000000     20.000000      29.000000   \n",
       "75%        2.000000      4.000000     27.000000      34.000000   \n",
       "max        5.000000      5.000000     40.000000      40.000000   \n",
       "\n",
       "       conscientiousness   neuroticism      openness  \n",
       "count       18995.000000  18995.000000  18995.000000  \n",
       "mean           23.453698     19.034693     29.095288  \n",
       "std             7.303669      8.621076      6.248738  \n",
       "min             0.000000      0.000000      0.000000  \n",
       "25%            18.000000     13.000000     25.000000  \n",
       "50%            24.000000     19.000000     30.000000  \n",
       "75%            29.000000     25.000000     34.000000  \n",
       "max            40.000000     40.000000     40.000000  "
      ]
     },
     "execution_count": 16,
     "metadata": {},
     "output_type": "execute_result"
    }
   ],
   "source": [
    "df.describe()"
   ]
  },
  {
   "cell_type": "markdown",
   "metadata": {},
   "source": [
    "We can notice 'age' is little bit suspicious, looks like somebody made a mistake while filling in their age. Also, it is obvious from the code below some people filled their year of birth instead of age"
   ]
  },
  {
   "cell_type": "code",
   "execution_count": 17,
   "metadata": {},
   "outputs": [
    {
     "data": {
      "text/plain": [
       "4004     999999999\n",
       "9987        412434\n",
       "10715         2000\n",
       "1649          1999\n",
       "6614          1998\n",
       "14628         1998\n",
       "18661         1998\n",
       "19614         1998\n",
       "331           1997\n",
       "1684          1997\n",
       "Name: age, dtype: int64"
      ]
     },
     "execution_count": 17,
     "metadata": {},
     "output_type": "execute_result"
    }
   ],
   "source": [
    "df.age.nlargest(10)"
   ]
  },
  {
   "cell_type": "markdown",
   "metadata": {},
   "source": [
    "Since the oldest living person at the moment is 117 years old, we will consider all values larger than 117 as false and drop these rows. Also, we will convert all values within range 1903-2007 to correct values."
   ]
  },
  {
   "cell_type": "code",
   "execution_count": 18,
   "metadata": {},
   "outputs": [],
   "source": [
    "indexes_to_drop = df[(df['age'] > 2007) | ((df['age'] > 117) & (df['age'] < 1903))].index\n",
    "df = df.drop(indexes_to_drop)\n",
    "\n",
    "df.loc[(df['age'] > 1903) & (df['age'] < 2007), 'age'] = 2020 - df.loc[(df['age'] > 1903) & (df['age'] < 2007), 'age']"
   ]
  },
  {
   "cell_type": "markdown",
   "metadata": {},
   "source": [
    " Just a small note, we have dropped another 9 rows, but still this shouldnt cause us any troubles."
   ]
  },
  {
   "cell_type": "code",
   "execution_count": 19,
   "metadata": {},
   "outputs": [
    {
     "data": {
      "text/plain": [
       "count    18986.000000\n",
       "mean        26.202254\n",
       "std         11.496196\n",
       "min         13.000000\n",
       "25%         18.000000\n",
       "50%         22.000000\n",
       "75%         31.000000\n",
       "max        100.000000\n",
       "Name: age, dtype: float64"
      ]
     },
     "execution_count": 19,
     "metadata": {},
     "output_type": "execute_result"
    }
   ],
   "source": [
    "df['age'].describe()"
   ]
  },
  {
   "cell_type": "markdown",
   "metadata": {},
   "source": [
    "Before we get to plotting, there is one more variable I would like to discuss - 'country'. Since we have large amounts of data just for a few countries, it might be a good idea to convert the countries into their respective continents. This should also be helpful later with creating demographic report."
   ]
  },
  {
   "cell_type": "markdown",
   "metadata": {},
   "source": [
    "We will create a new dataframe just for continent codes and later append it to our main dataset. Some values are already converted to continent codes so we want to skip these"
   ]
  },
  {
   "cell_type": "code",
   "execution_count": 20,
   "metadata": {},
   "outputs": [
    {
     "data": {
      "text/html": [
       "<div>\n",
       "<style scoped>\n",
       "    .dataframe tbody tr th:only-of-type {\n",
       "        vertical-align: middle;\n",
       "    }\n",
       "\n",
       "    .dataframe tbody tr th {\n",
       "        vertical-align: top;\n",
       "    }\n",
       "\n",
       "    .dataframe thead th {\n",
       "        text-align: right;\n",
       "    }\n",
       "</style>\n",
       "<table border=\"1\" class=\"dataframe\">\n",
       "  <thead>\n",
       "    <tr style=\"text-align: right;\">\n",
       "      <th></th>\n",
       "      <th>continent</th>\n",
       "    </tr>\n",
       "  </thead>\n",
       "  <tbody>\n",
       "    <tr>\n",
       "      <th>0</th>\n",
       "      <td>NA</td>\n",
       "    </tr>\n",
       "    <tr>\n",
       "      <th>1</th>\n",
       "      <td>NA</td>\n",
       "    </tr>\n",
       "    <tr>\n",
       "      <th>2</th>\n",
       "      <td>AS</td>\n",
       "    </tr>\n",
       "    <tr>\n",
       "      <th>3</th>\n",
       "      <td>EU</td>\n",
       "    </tr>\n",
       "    <tr>\n",
       "      <th>4</th>\n",
       "      <td>NA</td>\n",
       "    </tr>\n",
       "    <tr>\n",
       "      <th>...</th>\n",
       "      <td>...</td>\n",
       "    </tr>\n",
       "    <tr>\n",
       "      <th>18981</th>\n",
       "      <td>AS</td>\n",
       "    </tr>\n",
       "    <tr>\n",
       "      <th>18982</th>\n",
       "      <td>NA</td>\n",
       "    </tr>\n",
       "    <tr>\n",
       "      <th>18983</th>\n",
       "      <td>NA</td>\n",
       "    </tr>\n",
       "    <tr>\n",
       "      <th>18984</th>\n",
       "      <td>AF</td>\n",
       "    </tr>\n",
       "    <tr>\n",
       "      <th>18985</th>\n",
       "      <td>NA</td>\n",
       "    </tr>\n",
       "  </tbody>\n",
       "</table>\n",
       "<p>18986 rows × 1 columns</p>\n",
       "</div>"
      ],
      "text/plain": [
       "      continent\n",
       "0            NA\n",
       "1            NA\n",
       "2            AS\n",
       "3            EU\n",
       "4            NA\n",
       "...         ...\n",
       "18981        AS\n",
       "18982        NA\n",
       "18983        NA\n",
       "18984        AF\n",
       "18985        NA\n",
       "\n",
       "[18986 rows x 1 columns]"
      ]
     },
     "execution_count": 20,
     "metadata": {},
     "output_type": "execute_result"
    }
   ],
   "source": [
    "conts = pd.DataFrame({'continent' : []})\n",
    "for i,country in enumerate(list(df['country'].values)):\n",
    "    try:\n",
    "        conts.loc[i,'continent'] = pc.country_alpha2_to_continent_code(country)\n",
    "    except KeyError:\n",
    "        conts.loc[i,'continent'] = country\n",
    "conts"
   ]
  },
  {
   "cell_type": "markdown",
   "metadata": {},
   "source": [
    "Looking at the counts for each continent we can spot value 'AP' which was not properly sorted. It is code for Asia/Pacific region, so we will put it as Asia"
   ]
  },
  {
   "cell_type": "code",
   "execution_count": 21,
   "metadata": {},
   "outputs": [],
   "source": [
    "conts.loc[conts['continent'] == 'AP','continent'] = 'AS'"
   ]
  },
  {
   "cell_type": "markdown",
   "metadata": {},
   "source": [
    "Now we should see only 6 different continents"
   ]
  },
  {
   "cell_type": "code",
   "execution_count": 22,
   "metadata": {},
   "outputs": [
    {
     "data": {
      "text/plain": [
       "NA    9698\n",
       "EU    3918\n",
       "AS    3575\n",
       "OC    1114\n",
       "AF     390\n",
       "SA     291\n",
       "Name: continent, dtype: int64"
      ]
     },
     "execution_count": 22,
     "metadata": {},
     "output_type": "execute_result"
    }
   ],
   "source": [
    "conts['continent'].value_counts()"
   ]
  },
  {
   "cell_type": "markdown",
   "metadata": {},
   "source": [
    "Now we will just insert it right after 'country' column"
   ]
  },
  {
   "cell_type": "code",
   "execution_count": 23,
   "metadata": {},
   "outputs": [
    {
     "data": {
      "text/html": [
       "<div>\n",
       "<style scoped>\n",
       "    .dataframe tbody tr th:only-of-type {\n",
       "        vertical-align: middle;\n",
       "    }\n",
       "\n",
       "    .dataframe tbody tr th {\n",
       "        vertical-align: top;\n",
       "    }\n",
       "\n",
       "    .dataframe thead th {\n",
       "        text-align: right;\n",
       "    }\n",
       "</style>\n",
       "<table border=\"1\" class=\"dataframe\">\n",
       "  <thead>\n",
       "    <tr style=\"text-align: right;\">\n",
       "      <th></th>\n",
       "      <th>race</th>\n",
       "      <th>age</th>\n",
       "      <th>engnat</th>\n",
       "      <th>gender</th>\n",
       "      <th>hand</th>\n",
       "      <th>source</th>\n",
       "      <th>country</th>\n",
       "      <th>continent</th>\n",
       "      <th>performance</th>\n",
       "      <th>extroversion</th>\n",
       "      <th>agreeableness</th>\n",
       "      <th>conscientiousness</th>\n",
       "      <th>neuroticism</th>\n",
       "      <th>openness</th>\n",
       "    </tr>\n",
       "  </thead>\n",
       "  <tbody>\n",
       "    <tr>\n",
       "      <th>0</th>\n",
       "      <td>3</td>\n",
       "      <td>53</td>\n",
       "      <td>1</td>\n",
       "      <td>1</td>\n",
       "      <td>1</td>\n",
       "      <td>1</td>\n",
       "      <td>US</td>\n",
       "      <td>NA</td>\n",
       "      <td>2</td>\n",
       "      <td>34</td>\n",
       "      <td>36</td>\n",
       "      <td>37</td>\n",
       "      <td>39</td>\n",
       "      <td>33</td>\n",
       "    </tr>\n",
       "    <tr>\n",
       "      <th>1</th>\n",
       "      <td>13</td>\n",
       "      <td>46</td>\n",
       "      <td>1</td>\n",
       "      <td>2</td>\n",
       "      <td>1</td>\n",
       "      <td>1</td>\n",
       "      <td>US</td>\n",
       "      <td>NA</td>\n",
       "      <td>2</td>\n",
       "      <td>12</td>\n",
       "      <td>25</td>\n",
       "      <td>32</td>\n",
       "      <td>19</td>\n",
       "      <td>16</td>\n",
       "    </tr>\n",
       "    <tr>\n",
       "      <th>2</th>\n",
       "      <td>1</td>\n",
       "      <td>14</td>\n",
       "      <td>2</td>\n",
       "      <td>2</td>\n",
       "      <td>1</td>\n",
       "      <td>1</td>\n",
       "      <td>PK</td>\n",
       "      <td>AS</td>\n",
       "      <td>5</td>\n",
       "      <td>25</td>\n",
       "      <td>28</td>\n",
       "      <td>39</td>\n",
       "      <td>4</td>\n",
       "      <td>35</td>\n",
       "    </tr>\n",
       "    <tr>\n",
       "      <th>3</th>\n",
       "      <td>3</td>\n",
       "      <td>19</td>\n",
       "      <td>2</td>\n",
       "      <td>2</td>\n",
       "      <td>1</td>\n",
       "      <td>1</td>\n",
       "      <td>RO</td>\n",
       "      <td>EU</td>\n",
       "      <td>5</td>\n",
       "      <td>12</td>\n",
       "      <td>27</td>\n",
       "      <td>16</td>\n",
       "      <td>7</td>\n",
       "      <td>31</td>\n",
       "    </tr>\n",
       "    <tr>\n",
       "      <th>4</th>\n",
       "      <td>11</td>\n",
       "      <td>25</td>\n",
       "      <td>2</td>\n",
       "      <td>2</td>\n",
       "      <td>1</td>\n",
       "      <td>2</td>\n",
       "      <td>US</td>\n",
       "      <td>NA</td>\n",
       "      <td>3</td>\n",
       "      <td>24</td>\n",
       "      <td>34</td>\n",
       "      <td>24</td>\n",
       "      <td>20</td>\n",
       "      <td>24</td>\n",
       "    </tr>\n",
       "  </tbody>\n",
       "</table>\n",
       "</div>"
      ],
      "text/plain": [
       "   race  age  engnat  gender  hand  source country continent  performance  \\\n",
       "0     3   53       1       1     1       1      US        NA            2   \n",
       "1    13   46       1       2     1       1      US        NA            2   \n",
       "2     1   14       2       2     1       1      PK        AS            5   \n",
       "3     3   19       2       2     1       1      RO        EU            5   \n",
       "4    11   25       2       2     1       2      US        NA            3   \n",
       "\n",
       "   extroversion  agreeableness  conscientiousness  neuroticism  openness  \n",
       "0            34             36                 37           39        33  \n",
       "1            12             25                 32           19        16  \n",
       "2            25             28                 39            4        35  \n",
       "3            12             27                 16            7        31  \n",
       "4            24             34                 24           20        24  "
      ]
     },
     "execution_count": 23,
     "metadata": {},
     "output_type": "execute_result"
    }
   ],
   "source": [
    "df.insert(7, 'continent', conts['continent'].values)\n",
    "df.head()"
   ]
  },
  {
   "cell_type": "markdown",
   "metadata": {},
   "source": [
    "# 4. Data exploration - graphical"
   ]
  },
  {
   "cell_type": "markdown",
   "metadata": {},
   "source": [
    "Now it is the perfect time to do some graphical exploration of the data. We are mainly interested if we can spot any patterns\n",
    "in the following plots or just get some sort of feeling of the data from visualizations."
   ]
  },
  {
   "cell_type": "markdown",
   "metadata": {},
   "source": [
    "Lets start with histograms of nonpersonality variables to see if we have missed something in the data exploration above"
   ]
  },
  {
   "cell_type": "code",
   "execution_count": 24,
   "metadata": {},
   "outputs": [
    {
     "data": {
      "image/png": "[encoded data removed]",
      "text/plain": [
       "<Figure size 720x432 with 6 Axes>"
      ]
     },
     "metadata": {
      "needs_background": "light"
     },
     "output_type": "display_data"
    }
   ],
   "source": [
    "f, axes = plt.subplots(2, 3, figsize=(10, 6))\n",
    "sns.countplot(x='race', data=df, color='skyblue', ax=axes[0,0])\n",
    "sns.distplot(df['age'],  norm_hist=False, kde=False , ax=axes[0,1])\n",
    "sns.countplot(x='engnat', data=df, color='skyblue', ax=axes[0,2])\n",
    "sns.countplot(x='gender', data=df, color='skyblue', ax=axes[1,0])\n",
    "sns.countplot(x='hand', data=df, color='skyblue', ax=axes[1,1])\n",
    "sns.countplot(x='source', data=df, color='skyblue', ax=axes[1,2])\n",
    "f.tight_layout()"
   ]
  },
  {
   "cell_type": "markdown",
   "metadata": {},
   "source": [
    "So what insights do these histograms offer? It is probably nothing too shocking, but at least we got some idea what the data\n",
    "is like. We can for example notice the distribution of participants is skewed towards the younger people, the test was taken\n",
    "by more women than men and by more native english speakers than non-native."
   ]
  },
  {
   "cell_type": "markdown",
   "metadata": {},
   "source": [
    "Now we will take a quick glance at histogram of continent. Most respondents were from North America, then Asia and Europe had roughly the same amount of respondents, whereas Oceania, Africa and South America had quite low participation."
   ]
  },
  {
   "cell_type": "code",
   "execution_count": 25,
   "metadata": {},
   "outputs": [
    {
     "data": {
      "text/plain": [
       "<matplotlib.axes._subplots.AxesSubplot at 0x262e62f9d30>"
      ]
     },
     "execution_count": 25,
     "metadata": {},
     "output_type": "execute_result"
    },
    {
     "data": {
      "image/png": "[encoded data removed]",
      "text/plain": [
       "<Figure size 432x288 with 1 Axes>"
      ]
     },
     "metadata": {
      "needs_background": "light"
     },
     "output_type": "display_data"
    }
   ],
   "source": [
    "sns.countplot(x='continent', data=df, color='skyblue')"
   ]
  },
  {
   "cell_type": "markdown",
   "metadata": {},
   "source": [
    "Now lets take a look at the personality traits variables. However, this time we will use boxplots, as I believe in this case\n",
    "it will be easier to interpret and see any patterns. Furthermore we will have a nice compact comparison across all traits"
   ]
  },
  {
   "cell_type": "code",
   "execution_count": 26,
   "metadata": {},
   "outputs": [
    {
     "data": {
      "image/png": "[encoded data removed]",
      "text/plain": [
       "<Figure size 720x432 with 1 Axes>"
      ]
     },
     "metadata": {
      "needs_background": "light"
     },
     "output_type": "display_data"
    }
   ],
   "source": [
    "f = plt.figure(figsize=(10, 6))\n",
    "sns.boxplot(x='variable', y='value', data=pd.melt(df[['extroversion','agreeableness','conscientiousness','neuroticism','openness']]), color='skyblue')\n",
    "plt.show()"
   ]
  },
  {
   "cell_type": "markdown",
   "metadata": {
    "collapsed": true
   },
   "source": [
    "Plot above provides a couple of interesting insights. Lets start with extroversion and neuroticism. Both of these variables\n",
    " are nicely normally distributed without any skewness, which to me makes sense, because it just reflects the distribution\n",
    " in general population and as far as I am aware both of these traits are normally distributed in general.\n",
    " \n",
    " Now conscientiousness, it is slightly skewed to right side having slightly higher median than the previous ones. Because I am\n",
    " not a psychologist I can only guess why is that so. It might just reflect population in general or if we take into consideratio nwe are working with data mostly provided by young people, they just might be slightly more ambitious than older people,  they might be students, so thats why they might be more hardworking and causing this slight skewness.\n",
    " \n",
    " Now the two most skewed distributions are agreeableness and openness. The skewness in openness I would explain in the same way\n",
    " as in the previous case, young people, at least from my impression are more open to changes and new experiences than older \n",
    " people. And in my opinion agreeableness relates to the age distribution as well, younger people tend to listen more as\n",
    " they are not that experienced and are more influntiable."
   ]
  },
  {
   "cell_type": "markdown",
   "metadata": {},
   "source": [
    "Lastly we will take a look at a histogram of 'performance'"
   ]
  },
  {
   "cell_type": "code",
   "execution_count": 27,
   "metadata": {},
   "outputs": [
    {
     "data": {
      "text/plain": [
       "<matplotlib.axes._subplots.AxesSubplot at 0x262e61c0310>"
      ]
     },
     "execution_count": 27,
     "metadata": {},
     "output_type": "execute_result"
    },
    {
     "data": {
      "image/png": "[encoded data removed]",
      "text/plain": [
       "<Figure size 432x288 with 1 Axes>"
      ]
     },
     "metadata": {
      "needs_background": "light"
     },
     "output_type": "display_data"
    }
   ],
   "source": [
    "sns.countplot(x='performance', data=df, color='skyblue')"
   ]
  },
  {
   "cell_type": "markdown",
   "metadata": {},
   "source": [
    "Looking at the plot we can see we have roughly the same amount of each performance level. This fact should make the looking\n",
    "for a possible link between performance and personality traits easier."
   ]
  },
  {
   "cell_type": "markdown",
   "metadata": {},
   "source": [
    "# 5. Finding a link between performance and personality"
   ]
  },
  {
   "cell_type": "markdown",
   "metadata": {},
   "source": [
    "Lets start with a correlation matrix plot and discuss it"
   ]
  },
  {
   "cell_type": "code",
   "execution_count": 28,
   "metadata": {},
   "outputs": [
    {
     "data": {
      "text/plain": [
       "<matplotlib.axes._subplots.AxesSubplot at 0x262e6228160>"
      ]
     },
     "execution_count": 28,
     "metadata": {},
     "output_type": "execute_result"
    },
    {
     "data": {
      "image/png": "[encoded data removed]",
      "text/plain": [
       "<Figure size 432x288 with 2 Axes>"
      ]
     },
     "metadata": {
      "needs_background": "light"
     },
     "output_type": "display_data"
    }
   ],
   "source": [
    "sns.heatmap(df[['performance','extroversion','agreeableness','conscientiousness','neuroticism','openness']].corr(), annot = True)"
   ]
  },
  {
   "cell_type": "markdown",
   "metadata": {},
   "source": [
    "We can notice 2 weak positive correlations between performance and extroversion and agreeableness and 1 weak negative\n",
    "correlation between performance and neuroticism. What does this mean? Extroverted people and people who dont have problems\n",
    "adjusting their behaviors to suits others are slightly likely to be better performers. Also, people who are more emotionally\n",
    "stable tend to perform slightly better."
   ]
  },
  {
   "cell_type": "markdown",
   "metadata": {},
   "source": [
    "I think the best visualization of previous statements can be achieved using grouped boxplot."
   ]
  },
  {
   "cell_type": "code",
   "execution_count": 29,
   "metadata": {},
   "outputs": [
    {
     "data": {
      "image/png": "[encoded data removed]",
      "text/plain": [
       "<Figure size 864x576 with 1 Axes>"
      ]
     },
     "metadata": {
      "needs_background": "light"
     },
     "output_type": "display_data"
    }
   ],
   "source": [
    "df1 = df[['performance','extroversion','agreeableness','conscientiousness','neuroticism','openness']].melt(id_vars=['performance'], var_name='dataset', value_name='values')\n",
    "f = plt.figure(figsize=(12, 8))\n",
    "sns.boxplot(data=df1, x='performance', y='values', hue='dataset')\n",
    "plt.legend(title='dataset', loc='upper left', bbox_to_anchor=(1, 1))\n",
    "plt.show()"
   ]
  },
  {
   "cell_type": "markdown",
   "metadata": {},
   "source": [
    "So lets take a look at this plot by each individual trait and how it influences the performance.\n",
    "\n",
    "Extroversion - with higher performance we can see the median of extroversion score is raising, meaning more extroverted people are likely to perform better. Also it is worth noting the difference between medians is greatest from performance level 1 to level 2 and from level 4 to level 5.\n",
    "\n",
    "Agreeableness - even though we can observe relatively high values of agreeableness across all traits, the same fact as in extroversion applies here. What is quite interesting is checking the range of agreeableness values, which gets smaller as the performance increases. That also contributes to the argument that more 'adjustable' people are likely to perform better.\n",
    "\n",
    "Conscientiousness - now this trait doesn't seem to correlate with performance at all. The median as well as the range of the values are roughly the same across all trait groups\n",
    "\n",
    "Neuroticism - here we can observe a slowly decreasing trend of median values as performance increases. Especially the great difference between performance levels 4 and 5 suggests emotional stability contributes to higher performance.\n",
    "\n",
    "Openness - this trait behaves similarly to agreeableness, there is a slowly increasing trend of median values as performance increases, however this time it is slower. We can observe the same behavior of the values range as well, getting narrower with higher performance levels."
   ]
  },
  {
   "cell_type": "markdown",
   "metadata": {},
   "source": [
    "# 6. Summary of exploratory analysis"
   ]
  },
  {
   "cell_type": "markdown",
   "metadata": {},
   "source": [
    "So what kind of personality is the best performer? Previous section suggests we should check mainly 3 personality traits. People who are more extroverted than introverted, who can handle some level of stress and are emotionally stable, also we are looking for people, who can easily adjust to behaviour of others as well as are polite to others."
   ]
  }
 ],
 "metadata": {
  "kernelspec": {
   "display_name": "Python 3",
   "language": "python",
   "name": "python3"
  },
  "language_info": {
   "codemirror_mode": {
    "name": "ipython",
    "version": 3
   },
   "file_extension": ".py",
   "mimetype": "text/x-python",
   "name": "python",
   "nbconvert_exporter": "python",
   "pygments_lexer": "ipython3",
   "version": "3.8.1"
  }
 },
 "nbformat": 4,
 "nbformat_minor": 4
}
